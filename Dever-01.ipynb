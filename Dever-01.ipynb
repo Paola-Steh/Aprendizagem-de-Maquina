{
  "nbformat": 4,
  "nbformat_minor": 0,
  "metadata": {
    "colab": {
      "provenance": [],
      "authorship_tag": "ABX9TyNOljYFgdRMfcMfw5fuiEPA",
      "include_colab_link": true
    },
    "kernelspec": {
      "name": "python3",
      "display_name": "Python 3"
    },
    "language_info": {
      "name": "python"
    }
  },
  "cells": [
    {
      "cell_type": "markdown",
      "metadata": {
        "id": "view-in-github",
        "colab_type": "text"
      },
      "source": [
        "<a href=\"https://colab.research.google.com/github/Paola-Steh/Aprendizagem-de-Maquina/blob/main/Dever-01.ipynb\" target=\"_parent\"><img src=\"https://colab.research.google.com/assets/colab-badge.svg\" alt=\"Open In Colab\"/></a>"
      ]
    },
    {
      "cell_type": "code",
      "execution_count": null,
      "metadata": {
        "colab": {
          "base_uri": "https://localhost:8080/"
        },
        "id": "UX_ojNOpgk7U",
        "outputId": "25daf113-b0e4-4104-a50a-f6560960059c"
      },
      "outputs": [
        {
          "output_type": "stream",
          "name": "stdout",
          "text": [
            "Arquivo CSV 'dados.csv' criado com sucesso!\n",
            "Digite o número do registro desejado (1-5): 1\n",
            "Registro 1: Nome: Pablo Coelho; Data de nascimento: 26/01/1974; Data de cadastro: 17/02/2025 as 20:30 horas\n"
          ]
        }
      ],
      "source": [
        "import csv\n",
        "\n",
        "\n",
        "data = [\n",
        "    [\"Nome\", \"dataNasc\", \"dataCadastrado\", \"horaCadastro\"],\n",
        "    [\"Pablo Coelho\", \"26/01/1974\", \"2025/02/17\", \"20:30\"],\n",
        "    [\"Mariana Ferreira\", \"26/04/1995\", \"2025/02/17\", \"20:31\"],\n",
        "    [\"João Silva\", \"15/07/1988\", \"2025/02/18\", \"10:15\"],\n",
        "    [\"Ana Souza\", \"03/12/2001\", \"2025/02/18\", \"14:45\"],\n",
        "    [\"Pedro Santos\", \"22/09/1965\", \"2025/02/19\", \"08:00\"],\n",
        "]\n",
        "\n",
        "\n",
        "with open(\"dados.csv\", \"w\", newline=\"\") as csvfile:\n",
        "    writer = csv.writer(csvfile)\n",
        "    writer.writerows(data)\n",
        "\n",
        "\n",
        "print(\"Arquivo CSV 'dados.csv' criado com sucesso!\")\n",
        "\n",
        "\n",
        "import csv\n",
        "from datetime import datetime\n",
        "\n",
        "\n",
        "def formatar_data(data, formato_original, formato_desejado):\n",
        "    \"\"\"Formata uma data para o padrão desejado.\"\"\"\n",
        "    data_obj = datetime.strptime(data, formato_original)\n",
        "    return data_obj.strftime(formato_desejado)\n",
        "\n",
        "\n",
        "def imprimir_registro(nome_arquivo, numero_registro):\n",
        "    \"\"\"Lê o arquivo CSV e imprime o registro formatado.\"\"\"\n",
        "    with open(nome_arquivo, \"r\") as csvfile:\n",
        "        reader = csv.reader(csvfile)\n",
        "        next(reader)  # Ignora o cabeçalho\n",
        "        for i, linha in enumerate(reader):\n",
        "            if i == numero_registro - 1:\n",
        "                nome = linha[0]\n",
        "                data_nascimento = formatar_data(linha[1], \"%d/%m/%Y\", \"%d/%m/%Y\") #correção aqui, caso o csv tenha data no formato dd/mm/aaaa\n",
        "                data_cadastro = formatar_data(linha[2], \"%Y/%m/%d\", \"%d/%m/%Y\")\n",
        "                hora_cadastro = linha[3]\n",
        "                print(f\"Registro {numero_registro}: Nome: {nome}; Data de nascimento: {data_nascimento}; Data de cadastro: {data_cadastro} as {hora_cadastro} horas\")\n",
        "                return\n",
        "        print(f\"Registro {numero_registro} não encontrado.\")\n",
        "\n",
        "\n",
        "# Solicita o número do registro ao usuário\n",
        "numero_registro = int(input(\"Digite o número do registro desejado (1-5): \"))\n",
        "\n",
        "\n",
        "# Imprime o registro formatado\n",
        "imprimir_registro(\"dados.csv\", numero_registro)"
      ]
    },
    {
      "cell_type": "code",
      "source": [
        "%cd Aprendizagem-de-Maquina"
      ],
      "metadata": {
        "colab": {
          "base_uri": "https://localhost:8080/"
        },
        "id": "t4ExAM-miPll",
        "outputId": "e50bf529-ccb8-4b84-8c68-f1610c5a40f1"
      },
      "execution_count": null,
      "outputs": [
        {
          "output_type": "stream",
          "name": "stdout",
          "text": [
            "[Errno 2] No such file or directory: 'Aprendizagem-de-Maquina'\n",
            "/\n"
          ]
        }
      ]
    }
  ]
}